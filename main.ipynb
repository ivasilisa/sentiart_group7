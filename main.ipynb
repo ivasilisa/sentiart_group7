{
 "cells": [
  {
   "cell_type": "code",
   "execution_count": 1,
   "metadata": {},
   "outputs": [],
   "source": [
    "import pandas as pd\n",
    "from pathlib import Path\n",
    "from sent_art_analysis import full_processing as fp\n",
    "from sent_art_analysis import normalize, plot_norm_outliers"
   ]
  },
  {
   "cell_type": "code",
   "execution_count": 2,
   "metadata": {},
   "outputs": [],
   "source": [
    "TC = Path('SentiArt-main/250kSentiArt_EN.xlsx') # for English texts\n",
    "sa = pd.read_excel(TC) \n"
   ]
  },
  {
   "cell_type": "code",
   "execution_count": 3,
   "metadata": {},
   "outputs": [
    {
     "name": "stdout",
     "output_type": "stream",
     "text": [
      "DONE\n",
      "DONE\n",
      "DONE\n"
     ]
    }
   ],
   "source": [
    "for i in range(3):\n",
    "    \n",
    "    df_liking = pd.read_csv(f\"Liking_LBL_S{i+1}-D1.csv\").iloc[:-1, 1:]\n",
    "    df_liking = df_liking[(df_liking.T != 0).any()].reset_index()\n",
    "    \n",
    "    \n",
    "    df_liking = normalize(df_liking)\n",
    "    plot_norm_outliers(df_liking, i+1, \"Liking\", n_not_norm=3)\n",
    "    \n",
    "    df_striking = pd.read_csv(f\"Striking_LBL_S{i+1}-D1.csv\").iloc[:-1, 1:]\n",
    "    df_striking = df_striking[(df_striking.T != 0).any()].reset_index()\n",
    "    \n",
    "    df_striking = normalize(df_striking)\n",
    "    plot_norm_outliers(df_striking, i+1, \"Striking\", n_not_norm=3)\n",
    "    \n",
    "    \n",
    "    fp('all_songs.xlsx', i, sa, df_liking, df_striking)"
   ]
  },
  {
   "cell_type": "code",
   "execution_count": null,
   "metadata": {},
   "outputs": [],
   "source": []
  }
 ],
 "metadata": {
  "kernelspec": {
   "display_name": "Python 3",
   "language": "python",
   "name": "python3"
  },
  "language_info": {
   "codemirror_mode": {
    "name": "ipython",
    "version": 3
   },
   "file_extension": ".py",
   "mimetype": "text/x-python",
   "name": "python",
   "nbconvert_exporter": "python",
   "pygments_lexer": "ipython3",
   "version": "3.8.0"
  }
 },
 "nbformat": 4,
 "nbformat_minor": 4
}
